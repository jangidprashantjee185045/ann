{
  "nbformat": 4,
  "nbformat_minor": 0,
  "metadata": {
    "colab": {
      "name": "linear_regressionNN.ipynb",
      "provenance": [],
      "authorship_tag": "ABX9TyNCegl4JXAFr5ZIbz8jg74+",
      "include_colab_link": true
    },
    "kernelspec": {
      "name": "python3",
      "display_name": "Python 3"
    },
    "language_info": {
      "name": "python"
    }
  },
  "cells": [
    {
      "cell_type": "markdown",
      "metadata": {
        "id": "view-in-github",
        "colab_type": "text"
      },
      "source": [
        "<a href=\"https://colab.research.google.com/github/jangidprashantjee185045/ann/blob/project1/linear_regressionNN.ipynb\" target=\"_parent\"><img src=\"https://colab.research.google.com/assets/colab-badge.svg\" alt=\"Open In Colab\"/></a>"
      ]
    },
    {
      "cell_type": "code",
      "metadata": {
        "id": "eOOLMmE4I9XX"
      },
      "source": [
        "import numpy as np\n",
        "import pandas as pd\n",
        "import matplotlib as mpl\n",
        "import matplotlib.pyplot as plt"
      ],
      "execution_count": 103,
      "outputs": []
    },
    {
      "cell_type": "code",
      "metadata": {
        "id": "OsQ-QhX1JVQ9"
      },
      "source": [
        "import tensorflow as tf\n",
        "from tensorflow import keras"
      ],
      "execution_count": 104,
      "outputs": []
    },
    {
      "cell_type": "code",
      "metadata": {
        "id": "17IcxryDJdkL"
      },
      "source": [
        "from sklearn.datasets import fetch_california_housing\n",
        "housing=fetch_california_housing()"
      ],
      "execution_count": 105,
      "outputs": []
    },
    {
      "cell_type": "code",
      "metadata": {
        "colab": {
          "base_uri": "https://localhost:8080/"
        },
        "id": "47fa5At8JwX5",
        "outputId": "fc3b129d-2260-4715-edd3-9b4fcbb16b23"
      },
      "source": [
        "housing.target"
      ],
      "execution_count": 106,
      "outputs": [
        {
          "output_type": "execute_result",
          "data": {
            "text/plain": [
              "array([4.526, 3.585, 3.521, ..., 0.923, 0.847, 0.894])"
            ]
          },
          "metadata": {
            "tags": []
          },
          "execution_count": 106
        }
      ]
    },
    {
      "cell_type": "code",
      "metadata": {
        "colab": {
          "base_uri": "https://localhost:8080/"
        },
        "id": "JBIGL_67JzOQ",
        "outputId": "99acf3e9-e70e-4b93-cc67-663089cc4773"
      },
      "source": [
        "housing.feature_names"
      ],
      "execution_count": 107,
      "outputs": [
        {
          "output_type": "execute_result",
          "data": {
            "text/plain": [
              "['MedInc',\n",
              " 'HouseAge',\n",
              " 'AveRooms',\n",
              " 'AveBedrms',\n",
              " 'Population',\n",
              " 'AveOccup',\n",
              " 'Latitude',\n",
              " 'Longitude']"
            ]
          },
          "metadata": {
            "tags": []
          },
          "execution_count": 107
        }
      ]
    },
    {
      "cell_type": "code",
      "metadata": {
        "id": "cyHMaDdmKaN-"
      },
      "source": [
        "from sklearn.model_selection import train_test_split\n",
        "X_train_full,X_test,y_train_full,y_test=train_test_split(housing.data,housing.target,random_state=42)\n",
        "X_train,X_valid,y_train,y_valid=train_test_split(X_train_full,y_train_full)"
      ],
      "execution_count": 108,
      "outputs": []
    },
    {
      "cell_type": "code",
      "metadata": {
        "id": "VldgD7UfLlQ7"
      },
      "source": [
        "from sklearn.preprocessing import StandardScaler\n",
        "scaler=StandardScaler()\n",
        "X_train=scaler.fit_transform(X_train)\n",
        "X_valid=scaler.fit_transform(X_valid)\n",
        "X_test=scaler.fit_transform(X_test)"
      ],
      "execution_count": 109,
      "outputs": []
    },
    {
      "cell_type": "code",
      "metadata": {
        "id": "sZzzD2B7MTSl"
      },
      "source": [
        "np.random.seed(42)\n",
        "tf.random.set_seed(42)"
      ],
      "execution_count": 110,
      "outputs": []
    },
    {
      "cell_type": "code",
      "metadata": {
        "colab": {
          "base_uri": "https://localhost:8080/"
        },
        "id": "tNgEqolcMcxd",
        "outputId": "7878b19a-703b-4987-b6e5-61a125b7a716"
      },
      "source": [
        "X_train.shape"
      ],
      "execution_count": 111,
      "outputs": [
        {
          "output_type": "execute_result",
          "data": {
            "text/plain": [
              "(11610, 8)"
            ]
          },
          "metadata": {
            "tags": []
          },
          "execution_count": 111
        }
      ]
    },
    {
      "cell_type": "code",
      "metadata": {
        "colab": {
          "base_uri": "https://localhost:8080/"
        },
        "id": "nWO6lUD2MeyN",
        "outputId": "3cdf0dab-a944-4d25-a227-2e589965f0a5"
      },
      "source": [
        "X_test.shape"
      ],
      "execution_count": 112,
      "outputs": [
        {
          "output_type": "execute_result",
          "data": {
            "text/plain": [
              "(5160, 8)"
            ]
          },
          "metadata": {
            "tags": []
          },
          "execution_count": 112
        }
      ]
    },
    {
      "cell_type": "code",
      "metadata": {
        "colab": {
          "base_uri": "https://localhost:8080/"
        },
        "id": "0W4ud3ViMkn4",
        "outputId": "06370678-f721-4651-d183-5ede0f3ecce9"
      },
      "source": [
        "X_valid.shape"
      ],
      "execution_count": 113,
      "outputs": [
        {
          "output_type": "execute_result",
          "data": {
            "text/plain": [
              "(3870, 8)"
            ]
          },
          "metadata": {
            "tags": []
          },
          "execution_count": 113
        }
      ]
    },
    {
      "cell_type": "code",
      "metadata": {
        "id": "NVtfhajJMmaF"
      },
      "source": [
        "model=keras.models.Sequential([\n",
        "     keras.layers.Dense(30,activation=\"relu\",input_shape=X_train.shape[1:]),\n",
        "     keras.layers.Dense(30,activation=\"relu\"),\n",
        "     keras.layers.Dense(1)                         \n",
        "])"
      ],
      "execution_count": 114,
      "outputs": []
    },
    {
      "cell_type": "code",
      "metadata": {
        "id": "g_wNlCfwO74G"
      },
      "source": [
        "model.compile(loss=\"mean_squared_error\",\n",
        "              optimizer=keras.optimizers.SGD(),\n",
        "              metrics=[\"mae\"])"
      ],
      "execution_count": 115,
      "outputs": []
    },
    {
      "cell_type": "code",
      "metadata": {
        "colab": {
          "base_uri": "https://localhost:8080/"
        },
        "id": "cm7luxV9P2Gd",
        "outputId": "de54f4f8-ddfb-477c-ab35-553539619afa"
      },
      "source": [
        "model_history=model.fit(X_train,y_train,epochs=20,validation_data=(X_valid,y_valid))"
      ],
      "execution_count": 116,
      "outputs": [
        {
          "output_type": "stream",
          "text": [
            "Epoch 1/20\n",
            "363/363 [==============================] - 1s 1ms/step - loss: 0.6710 - mae: 0.5744 - val_loss: 0.4717 - val_mae: 0.4942\n",
            "Epoch 2/20\n",
            "363/363 [==============================] - 0s 1ms/step - loss: 0.4325 - mae: 0.4700 - val_loss: 0.4589 - val_mae: 0.4840\n",
            "Epoch 3/20\n",
            "363/363 [==============================] - 0s 1ms/step - loss: 0.4298 - mae: 0.4605 - val_loss: 0.4580 - val_mae: 0.4809\n",
            "Epoch 4/20\n",
            "363/363 [==============================] - 0s 1ms/step - loss: 0.3919 - mae: 0.4416 - val_loss: 0.4391 - val_mae: 0.4680\n",
            "Epoch 5/20\n",
            "363/363 [==============================] - 0s 1ms/step - loss: 0.3810 - mae: 0.4323 - val_loss: 0.4352 - val_mae: 0.4755\n",
            "Epoch 6/20\n",
            "363/363 [==============================] - 0s 982us/step - loss: 0.3731 - mae: 0.4285 - val_loss: 0.4591 - val_mae: 0.4715\n",
            "Epoch 7/20\n",
            "363/363 [==============================] - 0s 982us/step - loss: 0.3661 - mae: 0.4259 - val_loss: 0.4144 - val_mae: 0.4634\n",
            "Epoch 8/20\n",
            "363/363 [==============================] - 0s 1ms/step - loss: 0.3510 - mae: 0.4190 - val_loss: 0.4234 - val_mae: 0.4609\n",
            "Epoch 9/20\n",
            "363/363 [==============================] - 0s 1ms/step - loss: 0.3462 - mae: 0.4147 - val_loss: 0.4180 - val_mae: 0.4516\n",
            "Epoch 10/20\n",
            "363/363 [==============================] - 0s 993us/step - loss: 0.3429 - mae: 0.4137 - val_loss: 0.4012 - val_mae: 0.4477\n",
            "Epoch 11/20\n",
            "363/363 [==============================] - 0s 1ms/step - loss: 0.3403 - mae: 0.4111 - val_loss: 0.4085 - val_mae: 0.4465\n",
            "Epoch 12/20\n",
            "363/363 [==============================] - 0s 1ms/step - loss: 0.3383 - mae: 0.4102 - val_loss: 0.4051 - val_mae: 0.4458\n",
            "Epoch 13/20\n",
            "363/363 [==============================] - 0s 1ms/step - loss: 0.3342 - mae: 0.4081 - val_loss: 0.4069 - val_mae: 0.4394\n",
            "Epoch 14/20\n",
            "363/363 [==============================] - 0s 1ms/step - loss: 0.3312 - mae: 0.4057 - val_loss: 0.4046 - val_mae: 0.4418\n",
            "Epoch 15/20\n",
            "363/363 [==============================] - 0s 1ms/step - loss: 0.3305 - mae: 0.4048 - val_loss: 0.3981 - val_mae: 0.4444\n",
            "Epoch 16/20\n",
            "363/363 [==============================] - 0s 1ms/step - loss: 0.3275 - mae: 0.4036 - val_loss: 0.3989 - val_mae: 0.4501\n",
            "Epoch 17/20\n",
            "363/363 [==============================] - 0s 1ms/step - loss: 0.3273 - mae: 0.4025 - val_loss: 0.4075 - val_mae: 0.4605\n",
            "Epoch 18/20\n",
            "363/363 [==============================] - 0s 992us/step - loss: 0.3252 - mae: 0.4003 - val_loss: 0.4025 - val_mae: 0.4431\n",
            "Epoch 19/20\n",
            "363/363 [==============================] - 0s 1ms/step - loss: 0.3265 - mae: 0.3998 - val_loss: 0.4099 - val_mae: 0.4442\n",
            "Epoch 20/20\n",
            "363/363 [==============================] - 0s 977us/step - loss: 0.3258 - mae: 0.3994 - val_loss: 0.3985 - val_mae: 0.4586\n"
          ],
          "name": "stdout"
        }
      ]
    },
    {
      "cell_type": "code",
      "metadata": {
        "colab": {
          "base_uri": "https://localhost:8080/"
        },
        "id": "bSsD1H4IQLhW",
        "outputId": "3e3f4f91-dbda-4fbc-e330-d097d8c76b31"
      },
      "source": [
        "mae_test=model.evaluate(X_test,y_test)"
      ],
      "execution_count": 117,
      "outputs": [
        {
          "output_type": "stream",
          "text": [
            "162/162 [==============================] - 0s 707us/step - loss: 0.3898 - mae: 0.4528\n"
          ],
          "name": "stdout"
        }
      ]
    },
    {
      "cell_type": "code",
      "metadata": {
        "colab": {
          "base_uri": "https://localhost:8080/",
          "height": 324
        },
        "id": "O4f5RR-JQ92O",
        "outputId": "70bd6ef6-d271-4af6-831f-d2fa9b2f0a51"
      },
      "source": [
        "pd.DataFrame(model_history.history).plot(figsize=(8,5))\n",
        "plt.grid(True)\n",
        "plt.gca().set_ylim(0,1)\n",
        "plt.show()"
      ],
      "execution_count": 118,
      "outputs": [
        {
          "output_type": "display_data",
          "data": {
            "image/png": "[encoded data removed]",
            "text/plain": [
              "<Figure size 576x360 with 1 Axes>"
            ]
          },
          "metadata": {
            "tags": [],
            "needs_background": "light"
          }
        }
      ]
    },
    {
      "cell_type": "code",
      "metadata": {
        "colab": {
          "base_uri": "https://localhost:8080/"
        },
        "id": "1PqM0QKaTTdB",
        "outputId": "d40ec24c-41f2-4b58-a8fd-6db46eb3a69e"
      },
      "source": [
        "X_test[:3]"
      ],
      "execution_count": 119,
      "outputs": [
        {
          "output_type": "execute_result",
          "data": {
            "text/plain": [
              "array([[-1.14772246, -0.3014276 , -0.46356103, -0.13026842, -0.0249129 ,\n",
              "         0.56243986,  0.22075674,  0.2580042 ],\n",
              "       [-0.69738315,  0.09834786, -0.14086589,  0.17205266,  0.13229717,\n",
              "        -0.17390163, -0.20888265,  0.0337006 ],\n",
              "       [-0.19475766,  1.85735988, -0.54547279,  0.15860488, -0.09942866,\n",
              "        -0.98514082,  1.03333558, -1.45168768]])"
            ]
          },
          "metadata": {
            "tags": []
          },
          "execution_count": 119
        }
      ]
    },
    {
      "cell_type": "code",
      "metadata": {
        "colab": {
          "base_uri": "https://localhost:8080/"
        },
        "id": "u5uw3zTVT5ox",
        "outputId": "31723a1a-d34e-4b0a-f69a-731fb6026636"
      },
      "source": [
        "print(model.predict(X_test[:3]))"
      ],
      "execution_count": 120,
      "outputs": [
        {
          "output_type": "stream",
          "text": [
            "[[0.80195326]\n",
            " [1.7551814 ]\n",
            " [5.3358665 ]]\n"
          ],
          "name": "stdout"
        }
      ]
    },
    {
      "cell_type": "code",
      "metadata": {
        "colab": {
          "base_uri": "https://localhost:8080/"
        },
        "id": "ovEQDA7aUVt_",
        "outputId": "7dc92c7d-7093-4b21-ea2c-5225461f7deb"
      },
      "source": [
        "print(y_test[:3])"
      ],
      "execution_count": 121,
      "outputs": [
        {
          "output_type": "stream",
          "text": [
            "[0.477   0.458   5.00001]\n"
          ],
          "name": "stdout"
        }
      ]
    },
    {
      "cell_type": "code",
      "metadata": {
        "id": "Kjsn7bF7UZUf"
      },
      "source": [
        ""
      ],
      "execution_count": 121,
      "outputs": []
    }
  ]
}